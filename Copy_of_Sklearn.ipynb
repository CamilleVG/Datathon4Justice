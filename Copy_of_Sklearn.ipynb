{
  "cells": [
    {
      "cell_type": "markdown",
      "metadata": {
        "id": "view-in-github",
        "colab_type": "text"
      },
      "source": [
        "<a href=\"https://colab.research.google.com/github/CamilleVG/Datathon4Justice/blob/master/Copy_of_Sklearn.ipynb\" target=\"_parent\"><img src=\"https://colab.research.google.com/assets/colab-badge.svg\" alt=\"Open In Colab\"/></a>"
      ]
    },
    {
      "cell_type": "code",
      "execution_count": null,
      "id": "9d034726-027f-4103-9fe3-6d7e8482ee91",
      "metadata": {
        "colab": {
          "base_uri": "https://localhost:8080/"
        },
        "id": "9d034726-027f-4103-9fe3-6d7e8482ee91",
        "outputId": "84148308-76fd-4ad9-ac1e-898f9b238cc1"
      },
      "outputs": [
        {
          "output_type": "stream",
          "name": "stdout",
          "text": [
            "Drive already mounted at /content/drive; to attempt to forcibly remount, call drive.mount(\"/content/drive\", force_remount=True).\n"
          ]
        }
      ],
      "source": [
        "import pandas as pd\n",
        "import numpy as np\n",
        "import matplotlib.pyplot as plt\n",
        "%matplotlib inline\n",
        "import warnings\n",
        "warnings.filterwarnings(\"ignore\")\n",
        "from google.colab import drive\n",
        "drive.mount('/content/drive')"
      ]
    },
    {
      "cell_type": "markdown",
      "id": "c3ce3905-c80b-47b0-9188-20b34ea45704",
      "metadata": {
        "id": "c3ce3905-c80b-47b0-9188-20b34ea45704"
      },
      "source": [
        "# 0 Overview"
      ]
    },
    {
      "cell_type": "markdown",
      "id": "4099ab07-ae28-4263-835e-7825c7970d58",
      "metadata": {
        "id": "4099ab07-ae28-4263-835e-7825c7970d58"
      },
      "source": [
        "Scikit-learn (formerly scikits.learn, also known as sklearn) is a free software machine learning library for the Python programming language. It was initially developed by Google and was released in 2007. This website https://scikit-learn.org/stable/ gives an overview of the features it has and all the past releases. In general, it is a very powerful, efficient, and robust tool for machine learning and data analysis. "
      ]
    },
    {
      "cell_type": "markdown",
      "id": "009502b5-9898-4ce0-9ccc-6ddb778536b4",
      "metadata": {
        "id": "009502b5-9898-4ce0-9ccc-6ddb778536b4"
      },
      "source": [
        "We will go over the listed features in Sklearn for today's tutorial. \n",
        "\n",
        " * The dataset packages,\n",
        " * Preprocessing tools, \n",
        " * Regression, \n",
        " * Support Vector Machines (SVMs),\n",
        " * Tree-based classification models, \n",
        " * Dimension reduction method.  \n",
        "\n",
        "We will focus on the implementation of the algorithms using Sklearn instead of going deep into the theories. For any questions about the theories, one can refer to this book https://www.statlearning.com or discuss with me later. "
      ]
    },
    {
      "cell_type": "markdown",
      "id": "46dbb149-375a-4f4c-b8cf-9dfede60d244",
      "metadata": {
        "id": "46dbb149-375a-4f4c-b8cf-9dfede60d244"
      },
      "source": [
        "# 1 The Datasets Package"
      ]
    },
    {
      "cell_type": "markdown",
      "id": "add0fd74-f09c-4fc6-b20c-79b83a953b62",
      "metadata": {
        "id": "add0fd74-f09c-4fc6-b20c-79b83a953b62"
      },
      "source": [
        "`Sklearn` does not only have data analysis tools but also comes with a bunch of easy-to-access datasets. Check https://scikit-learn.org/stable/datasets.html#datasets to see the full list of datasets and the descriptions. Or we can simply do the following and it will return us with the list of datasets as well.   "
      ]
    },
    {
      "cell_type": "code",
      "execution_count": null,
      "id": "3645508d-1eda-4944-9574-f27790d2e3f3",
      "metadata": {
        "id": "3645508d-1eda-4944-9574-f27790d2e3f3",
        "outputId": "a6496f42-1c55-48fe-b945-f28224b8a6f1"
      },
      "outputs": [
        {
          "data": {
            "text/plain": [
              "['__all__',\n",
              " '__builtins__',\n",
              " '__cached__',\n",
              " '__doc__',\n",
              " '__file__',\n",
              " '__loader__',\n",
              " '__name__',\n",
              " '__package__',\n",
              " '__path__',\n",
              " '__spec__',\n",
              " '_base',\n",
              " '_california_housing',\n",
              " '_covtype',\n",
              " '_kddcup99',\n",
              " '_lfw',\n",
              " '_olivetti_faces',\n",
              " '_openml',\n",
              " '_rcv1',\n",
              " '_samples_generator',\n",
              " '_species_distributions',\n",
              " '_svmlight_format_fast',\n",
              " '_svmlight_format_io',\n",
              " '_twenty_newsgroups',\n",
              " 'clear_data_home',\n",
              " 'dump_svmlight_file',\n",
              " 'fetch_20newsgroups',\n",
              " 'fetch_20newsgroups_vectorized',\n",
              " 'fetch_california_housing',\n",
              " 'fetch_covtype',\n",
              " 'fetch_kddcup99',\n",
              " 'fetch_lfw_pairs',\n",
              " 'fetch_lfw_people',\n",
              " 'fetch_olivetti_faces',\n",
              " 'fetch_openml',\n",
              " 'fetch_rcv1',\n",
              " 'fetch_species_distributions',\n",
              " 'get_data_home',\n",
              " 'load_boston',\n",
              " 'load_breast_cancer',\n",
              " 'load_diabetes',\n",
              " 'load_digits',\n",
              " 'load_files',\n",
              " 'load_iris',\n",
              " 'load_linnerud',\n",
              " 'load_sample_image',\n",
              " 'load_sample_images',\n",
              " 'load_svmlight_file',\n",
              " 'load_svmlight_files',\n",
              " 'load_wine',\n",
              " 'make_biclusters',\n",
              " 'make_blobs',\n",
              " 'make_checkerboard',\n",
              " 'make_circles',\n",
              " 'make_classification',\n",
              " 'make_friedman1',\n",
              " 'make_friedman2',\n",
              " 'make_friedman3',\n",
              " 'make_gaussian_quantiles',\n",
              " 'make_hastie_10_2',\n",
              " 'make_low_rank_matrix',\n",
              " 'make_moons',\n",
              " 'make_multilabel_classification',\n",
              " 'make_regression',\n",
              " 'make_s_curve',\n",
              " 'make_sparse_coded_signal',\n",
              " 'make_sparse_spd_matrix',\n",
              " 'make_sparse_uncorrelated',\n",
              " 'make_spd_matrix',\n",
              " 'make_swiss_roll']"
            ]
          },
          "execution_count": 2,
          "metadata": {},
          "output_type": "execute_result"
        }
      ],
      "source": [
        "from sklearn import datasets\n",
        "dir(datasets)"
      ]
    },
    {
      "cell_type": "markdown",
      "id": "18304828-2d5a-48f2-934b-1e706317ac59",
      "metadata": {
        "id": "18304828-2d5a-48f2-934b-1e706317ac59"
      },
      "source": [
        "If we want to load one specific dataset, for example, the wine recognition dataset, we can just do"
      ]
    },
    {
      "cell_type": "code",
      "execution_count": null,
      "id": "8d8f891a-dc15-4d25-8ce0-3feecd737c96",
      "metadata": {
        "id": "8d8f891a-dc15-4d25-8ce0-3feecd737c96"
      },
      "outputs": [],
      "source": [
        "from sklearn.datasets import load_wine"
      ]
    },
    {
      "cell_type": "markdown",
      "id": "2d842095-b4ac-49e8-ab39-45d5384f52d3",
      "metadata": {
        "id": "2d842095-b4ac-49e8-ab39-45d5384f52d3"
      },
      "source": [
        "For this talk, we will use the California housing data `fetch_california_housing` for linear regression, the forest cover type `fetch_covtype` for classification, and the people's face images `fetch_lfw_people` for dimension reduction. "
      ]
    },
    {
      "cell_type": "markdown",
      "id": "d87aa390-d81c-4233-8a19-d62fbf24457f",
      "metadata": {
        "id": "d87aa390-d81c-4233-8a19-d62fbf24457f"
      },
      "source": [
        "# 2 Preprocessing Tools"
      ]
    },
    {
      "cell_type": "markdown",
      "id": "5094a0e1-3bb7-4f72-90ca-2e6e09ebf24f",
      "metadata": {
        "id": "5094a0e1-3bb7-4f72-90ca-2e6e09ebf24f"
      },
      "source": [
        "Common preprocessing techniques in statistical analysis include standardization, normalization, and encoding categorical features.  "
      ]
    },
    {
      "cell_type": "markdown",
      "id": "72887941-72b5-4dd8-ab95-4ca416d51f4e",
      "metadata": {
        "id": "72887941-72b5-4dd8-ab95-4ca416d51f4e"
      },
      "source": [
        "## 2.1 Standardization\n",
        "\n",
        "Standardization normally means to center the mean to 0, scale the variance to 1, and order. This can be done easily by using the `StandardScaler()` function from the `preprocessing` module. "
      ]
    },
    {
      "cell_type": "code",
      "execution_count": null,
      "id": "cc821a62-0acf-4217-b8e3-7c82e953005d",
      "metadata": {
        "id": "cc821a62-0acf-4217-b8e3-7c82e953005d"
      },
      "outputs": [],
      "source": [
        "from sklearn import preprocessing             # Load the preprocessing module."
      ]
    },
    {
      "cell_type": "code",
      "execution_count": null,
      "id": "c73f983e-f1f9-4a32-a6d3-0a2954944cb9",
      "metadata": {
        "id": "c73f983e-f1f9-4a32-a6d3-0a2954944cb9",
        "outputId": "0736b9f7-83a9-4fee-86ae-400e2ae2e604"
      },
      "outputs": [
        {
          "name": "stdout",
          "output_type": "stream",
          "text": [
            "[[ 0.         -1.22474487  1.33630621]\n",
            " [ 1.22474487  0.         -0.26726124]\n",
            " [-1.22474487  1.22474487 -1.06904497]]\n"
          ]
        }
      ],
      "source": [
        "toy_data_1 = np.array([[ 1., -1.,  2.],       # A toy data created for demonstration.\n",
        "                    [ 2.,  0.,  0.],\n",
        "                    [ 0.,  1., -1.]])\n",
        "\n",
        "toy_standardized = preprocessing.StandardScaler().fit_transform(toy_data_1)\n",
        "print(toy_standardized)"
      ]
    },
    {
      "cell_type": "markdown",
      "id": "67549c1f-09c4-4eab-a03b-e0b8099a877c",
      "metadata": {
        "id": "67549c1f-09c4-4eab-a03b-e0b8099a877c"
      },
      "source": [
        "Here we implicitly have the default value, True, for the two parameters `with_mean` and `with_std`. In this case, we are doing both the centering and scaling, respectively. If we do not want to do either of these, we simply change the value of the corresponding parameter to False to disable it. "
      ]
    },
    {
      "cell_type": "code",
      "execution_count": null,
      "id": "e6ca3533-19cd-4dbf-bca2-3ce490a57e17",
      "metadata": {
        "id": "e6ca3533-19cd-4dbf-bca2-3ce490a57e17",
        "outputId": "57f6c18a-46a8-4873-d231-7aeee6b0203a"
      },
      "outputs": [
        {
          "name": "stdout",
          "output_type": "stream",
          "text": [
            "[[ 0.         -1.22474487  1.33630621]\n",
            " [ 1.22474487  0.         -0.26726124]\n",
            " [-1.22474487  1.22474487 -1.06904497]]\n"
          ]
        }
      ],
      "source": [
        "# This is equivalent as above. \n",
        "\n",
        "toy_standardized = preprocessing.StandardScaler(with_mean=True, with_std=True).fit_transform(toy_data_1)\n",
        "print(toy_standardized)"
      ]
    },
    {
      "cell_type": "markdown",
      "id": "bbc1fc6c-040d-4c42-88ac-84ee9722a58f",
      "metadata": {
        "id": "bbc1fc6c-040d-4c42-88ac-84ee9722a58f"
      },
      "source": [
        "Of course we have options for other standardization requirements. For example `MinMaxScaler` transforms data to have it fall into a range (between min and max). `MaxAbsScaler` scales data to a specific range [-1, 1]. Check https://scikit-learn.org/stable/modules/preprocessing.html#preprocessing for more details. "
      ]
    },
    {
      "cell_type": "markdown",
      "id": "06fb0d0d-de9d-4f7b-a780-8510e4867031",
      "metadata": {
        "id": "06fb0d0d-de9d-4f7b-a780-8510e4867031"
      },
      "source": [
        "## 2.2 Normalization"
      ]
    },
    {
      "cell_type": "markdown",
      "id": "ca34dbbb-d4dc-443a-9a46-f4804d1e891b",
      "metadata": {
        "id": "ca34dbbb-d4dc-443a-9a46-f4804d1e891b"
      },
      "source": [
        "Normalization is the process of scaling individual samples to have unit norm. Similar to standardization, it is also a common requirement before model building. This could be accomplished by using the `normalize` function. Options for different types of norm include `l1`, `l2`, and `max`. Here we use the `l2` norm as an illustration. "
      ]
    },
    {
      "cell_type": "code",
      "execution_count": null,
      "id": "b67d0d81-5305-445d-8917-7ab5300b93df",
      "metadata": {
        "id": "b67d0d81-5305-445d-8917-7ab5300b93df",
        "outputId": "fdaef4c6-01e7-419e-9be8-2c85e2050e63"
      },
      "outputs": [
        {
          "name": "stdout",
          "output_type": "stream",
          "text": [
            "[[ 0.40824829 -0.40824829  0.81649658]\n",
            " [ 1.          0.          0.        ]\n",
            " [ 0.          0.70710678 -0.70710678]]\n"
          ]
        }
      ],
      "source": [
        "toy_normalized = preprocessing.normalize(toy_data_1, norm='l2')\n",
        "print(toy_normalized)"
      ]
    },
    {
      "cell_type": "markdown",
      "id": "627adc0d-0923-4d40-9a2d-81fec6b1c658",
      "metadata": {
        "id": "627adc0d-0923-4d40-9a2d-81fec6b1c658"
      },
      "source": [
        "## 2.3 Encoding categorical features"
      ]
    },
    {
      "cell_type": "markdown",
      "id": "fab6c142-5d04-4c40-b0f9-f573963d8aed",
      "metadata": {
        "id": "fab6c142-5d04-4c40-b0f9-f573963d8aed"
      },
      "source": [
        "Categorical variables such as gender are sometimes given in data as characters male/female. We have to encode the categories to be, for example, 0/1 so that computers can recognize and better handle them. The conversion (usually to one-hot-coding) can be easily done with `OneHotEncoder` as the following. "
      ]
    },
    {
      "cell_type": "code",
      "execution_count": null,
      "id": "e26590a1-8ab2-4dbc-abd4-ef51f1c6746a",
      "metadata": {
        "id": "e26590a1-8ab2-4dbc-abd4-ef51f1c6746a",
        "outputId": "10536533-10ec-4c9e-975a-55ace96c7d37"
      },
      "outputs": [
        {
          "data": {
            "text/plain": [
              "array([[1., 0., 0., 1., 0., 0., 1., 0., 0., 0.]])"
            ]
          },
          "execution_count": 9,
          "metadata": {},
          "output_type": "execute_result"
        }
      ],
      "source": [
        "# Specify the categories for three variables genders, majors, and years. \n",
        "genders = ['female', 'male']\n",
        "majors = ['computer science', 'electrical engineering', 'math', 'others']\n",
        "years = ['year 1', 'year 2', 'year 3', 'year 4']\n",
        "enc = preprocessing.OneHotEncoder(categories=[genders, majors, years])\n",
        "\n",
        "# Create a toy data\n",
        "toy_data_2 = [['male', 'math', 'year 2'], ['female', 'computer science', 'year 3']]\n",
        "\n",
        "# One-hot-encode the categorical variables\n",
        "enc.fit(toy_data_2)\n",
        "\n",
        "enc.transform([['female', 'electrical engineering', 'year 1']]).toarray()"
      ]
    },
    {
      "cell_type": "markdown",
      "id": "5a3da950-92f0-4e5f-9886-2a7ac1d28c9e",
      "metadata": {
        "id": "5a3da950-92f0-4e5f-9886-2a7ac1d28c9e"
      },
      "source": [
        "# 3 Regression"
      ]
    },
    {
      "cell_type": "markdown",
      "id": "cb7f5097-4ff7-4de0-8a58-f9782cf71fce",
      "metadata": {
        "id": "cb7f5097-4ff7-4de0-8a58-f9782cf71fce"
      },
      "source": [
        "## 3.1 Linear Regression"
      ]
    },
    {
      "cell_type": "markdown",
      "id": "b0ab2697-36c4-4a0e-8056-d9f1624d7f79",
      "metadata": {
        "id": "b0ab2697-36c4-4a0e-8056-d9f1624d7f79"
      },
      "source": [
        "The most basic and common statistical model for analyzing datasets with continuous response values is linear regression. We can use the `LinearRegression` function from the `sklearn.linear_model` module. "
      ]
    },
    {
      "cell_type": "code",
      "execution_count": null,
      "id": "a448976a-d174-4235-b0b4-e84285be5146",
      "metadata": {
        "id": "a448976a-d174-4235-b0b4-e84285be5146"
      },
      "outputs": [],
      "source": [
        "from sklearn.linear_model import LinearRegression           # Load the package"
      ]
    },
    {
      "cell_type": "markdown",
      "id": "ed3e44ca-898c-45ce-ba1a-d84c439e451f",
      "metadata": {
        "id": "ed3e44ca-898c-45ce-ba1a-d84c439e451f"
      },
      "source": [
        "We also load the `fetch_california_housing` data for demonstration. "
      ]
    },
    {
      "cell_type": "code",
      "execution_count": null,
      "id": "365b068e-af23-4f4e-b417-0ecccc7dd52c",
      "metadata": {
        "id": "365b068e-af23-4f4e-b417-0ecccc7dd52c"
      },
      "outputs": [],
      "source": [
        "from sklearn.datasets import fetch_california_housing       # Load the data"
      ]
    },
    {
      "cell_type": "markdown",
      "id": "29d53526-f201-477a-9729-a8451b24d156",
      "metadata": {
        "id": "29d53526-f201-477a-9729-a8451b24d156"
      },
      "source": [
        "We can extract general information about the data by doing "
      ]
    },
    {
      "cell_type": "code",
      "execution_count": null,
      "id": "10f26fb8-c08c-4ce5-9610-eb0514d23ab2",
      "metadata": {
        "id": "10f26fb8-c08c-4ce5-9610-eb0514d23ab2",
        "outputId": "32f9929c-338f-4081-c351-a7ef1228ebf4"
      },
      "outputs": [
        {
          "name": "stdout",
          "output_type": "stream",
          "text": [
            ".. _california_housing_dataset:\n",
            "\n",
            "California Housing dataset\n",
            "--------------------------\n",
            "\n",
            "**Data Set Characteristics:**\n",
            "\n",
            "    :Number of Instances: 20640\n",
            "\n",
            "    :Number of Attributes: 8 numeric, predictive attributes and the target\n",
            "\n",
            "    :Attribute Information:\n",
            "        - MedInc        median income in block\n",
            "        - HouseAge      median house age in block\n",
            "        - AveRooms      average number of rooms\n",
            "        - AveBedrms     average number of bedrooms\n",
            "        - Population    block population\n",
            "        - AveOccup      average house occupancy\n",
            "        - Latitude      house block latitude\n",
            "        - Longitude     house block longitude\n",
            "\n",
            "    :Missing Attribute Values: None\n",
            "\n",
            "This dataset was obtained from the StatLib repository.\n",
            "http://lib.stat.cmu.edu/datasets/\n",
            "\n",
            "The target variable is the median house value for California districts.\n",
            "\n",
            "This dataset was derived from the 1990 U.S. census, using one row per census\n",
            "block group. A block group is the smallest geographical unit for which the U.S.\n",
            "Census Bureau publishes sample data (a block group typically has a population\n",
            "of 600 to 3,000 people).\n",
            "\n",
            "It can be downloaded/loaded using the\n",
            ":func:`sklearn.datasets.fetch_california_housing` function.\n",
            "\n",
            ".. topic:: References\n",
            "\n",
            "    - Pace, R. Kelley and Ronald Barry, Sparse Spatial Autoregressions,\n",
            "      Statistics and Probability Letters, 33 (1997) 291-297\n",
            "\n"
          ]
        }
      ],
      "source": [
        "print(fetch_california_housing().DESCR)"
      ]
    },
    {
      "cell_type": "markdown",
      "id": "d5ba1a70-c3f7-4119-91fc-2d403ce479c7",
      "metadata": {
        "id": "d5ba1a70-c3f7-4119-91fc-2d403ce479c7"
      },
      "source": [
        "For a better preview of the data, we can convert the data into a dataframe "
      ]
    },
    {
      "cell_type": "code",
      "execution_count": null,
      "id": "e2ecbec2-e168-47ba-8b04-9d56b00218a9",
      "metadata": {
        "id": "e2ecbec2-e168-47ba-8b04-9d56b00218a9",
        "outputId": "2523714a-7bc7-4b70-a0a7-30dc73867c61"
      },
      "outputs": [
        {
          "data": {
            "text/html": [
              "<div>\n",
              "<style scoped>\n",
              "    .dataframe tbody tr th:only-of-type {\n",
              "        vertical-align: middle;\n",
              "    }\n",
              "\n",
              "    .dataframe tbody tr th {\n",
              "        vertical-align: top;\n",
              "    }\n",
              "\n",
              "    .dataframe thead th {\n",
              "        text-align: right;\n",
              "    }\n",
              "</style>\n",
              "<table border=\"1\" class=\"dataframe\">\n",
              "  <thead>\n",
              "    <tr style=\"text-align: right;\">\n",
              "      <th></th>\n",
              "      <th>MedInc</th>\n",
              "      <th>HouseAge</th>\n",
              "      <th>AveRooms</th>\n",
              "      <th>AveBedrms</th>\n",
              "      <th>Population</th>\n",
              "      <th>AveOccup</th>\n",
              "      <th>Latitude</th>\n",
              "      <th>Longitude</th>\n",
              "    </tr>\n",
              "  </thead>\n",
              "  <tbody>\n",
              "    <tr>\n",
              "      <th>0</th>\n",
              "      <td>8.3252</td>\n",
              "      <td>41.0</td>\n",
              "      <td>6.984127</td>\n",
              "      <td>1.023810</td>\n",
              "      <td>322.0</td>\n",
              "      <td>2.555556</td>\n",
              "      <td>37.88</td>\n",
              "      <td>-122.23</td>\n",
              "    </tr>\n",
              "    <tr>\n",
              "      <th>1</th>\n",
              "      <td>8.3014</td>\n",
              "      <td>21.0</td>\n",
              "      <td>6.238137</td>\n",
              "      <td>0.971880</td>\n",
              "      <td>2401.0</td>\n",
              "      <td>2.109842</td>\n",
              "      <td>37.86</td>\n",
              "      <td>-122.22</td>\n",
              "    </tr>\n",
              "    <tr>\n",
              "      <th>2</th>\n",
              "      <td>7.2574</td>\n",
              "      <td>52.0</td>\n",
              "      <td>8.288136</td>\n",
              "      <td>1.073446</td>\n",
              "      <td>496.0</td>\n",
              "      <td>2.802260</td>\n",
              "      <td>37.85</td>\n",
              "      <td>-122.24</td>\n",
              "    </tr>\n",
              "    <tr>\n",
              "      <th>3</th>\n",
              "      <td>5.6431</td>\n",
              "      <td>52.0</td>\n",
              "      <td>5.817352</td>\n",
              "      <td>1.073059</td>\n",
              "      <td>558.0</td>\n",
              "      <td>2.547945</td>\n",
              "      <td>37.85</td>\n",
              "      <td>-122.25</td>\n",
              "    </tr>\n",
              "    <tr>\n",
              "      <th>4</th>\n",
              "      <td>3.8462</td>\n",
              "      <td>52.0</td>\n",
              "      <td>6.281853</td>\n",
              "      <td>1.081081</td>\n",
              "      <td>565.0</td>\n",
              "      <td>2.181467</td>\n",
              "      <td>37.85</td>\n",
              "      <td>-122.25</td>\n",
              "    </tr>\n",
              "  </tbody>\n",
              "</table>\n",
              "</div>"
            ],
            "text/plain": [
              "   MedInc  HouseAge  AveRooms  AveBedrms  Population  AveOccup  Latitude  \\\n",
              "0  8.3252      41.0  6.984127   1.023810       322.0  2.555556     37.88   \n",
              "1  8.3014      21.0  6.238137   0.971880      2401.0  2.109842     37.86   \n",
              "2  7.2574      52.0  8.288136   1.073446       496.0  2.802260     37.85   \n",
              "3  5.6431      52.0  5.817352   1.073059       558.0  2.547945     37.85   \n",
              "4  3.8462      52.0  6.281853   1.081081       565.0  2.181467     37.85   \n",
              "\n",
              "   Longitude  \n",
              "0    -122.23  \n",
              "1    -122.22  \n",
              "2    -122.24  \n",
              "3    -122.25  \n",
              "4    -122.25  "
            ]
          },
          "execution_count": 13,
          "metadata": {},
          "output_type": "execute_result"
        }
      ],
      "source": [
        "features = pd.DataFrame(fetch_california_housing().data)\n",
        "features.columns = fetch_california_housing().feature_names\n",
        "features.head(5)"
      ]
    },
    {
      "cell_type": "code",
      "execution_count": null,
      "id": "f371a231-9511-45c9-b1d7-819fb90fc8dc",
      "metadata": {
        "id": "f371a231-9511-45c9-b1d7-819fb90fc8dc"
      },
      "outputs": [],
      "source": [
        "\"\"\" Load data and split to training & testing sets \"\"\"\n",
        "\n",
        "X, y = fetch_california_housing(return_X_y=True)\n",
        "\n",
        "from sklearn.model_selection import train_test_split\n",
        "X_train, X_test, y_train, y_test = train_test_split(X, y, test_size=0.2, shuffle=True, random_state=42)"
      ]
    },
    {
      "cell_type": "code",
      "execution_count": null,
      "id": "ae8b1a00-1b3f-4ad6-87b4-10fc3bff0b5e",
      "metadata": {
        "id": "ae8b1a00-1b3f-4ad6-87b4-10fc3bff0b5e",
        "outputId": "41ed05f4-be25-4f44-89a5-c4bace8cdbdd"
      },
      "outputs": [
        {
          "name": "stdout",
          "output_type": "stream",
          "text": [
            "Coefficient of determination: 0.6125511913966952 \n",
            "\n",
            "Intercept: -37.023277706063915 \n",
            "\n",
            "Coefficients: \n",
            "             Coefficient\n",
            "MedInc         0.448675\n",
            "HouseAge       0.009724\n",
            "AveRooms      -0.123323\n",
            "AveBedrms      0.783145\n",
            "Population    -0.000002\n",
            "AveOccup      -0.003526\n",
            "Latitude      -0.419792\n",
            "Longitude     -0.433708\n"
          ]
        }
      ],
      "source": [
        "\"\"\" Fit the model \"\"\"\n",
        "\n",
        "linear = LinearRegression().fit(X_train, y_train)\n",
        "\n",
        "r_sq = linear.score(X_train, y_train)\n",
        "print('Coefficient of determination:', r_sq, \"\\n\")\n",
        "\n",
        "print('Intercept:', linear.intercept_, \"\\n\")\n",
        "\n",
        "coeff_df = pd.DataFrame(linear.coef_, features.columns, columns=['Coefficient'])\n",
        "print(\"Coefficients: \\n\", coeff_df)"
      ]
    },
    {
      "cell_type": "code",
      "execution_count": null,
      "id": "788e8bcf-cf92-4978-9a6d-61f9c8584cf9",
      "metadata": {
        "id": "788e8bcf-cf92-4978-9a6d-61f9c8584cf9",
        "outputId": "d337d804-732f-498b-ead1-7575ab4a4b69"
      },
      "outputs": [
        {
          "name": "stdout",
          "output_type": "stream",
          "text": [
            "Mean Absolute Error: 0.5332001304957\n",
            "Mean Squared Error: 0.5558915986952425\n",
            "Root Mean Squared Error: 0.7455813830127751\n"
          ]
        }
      ],
      "source": [
        "\"\"\" Make predictions \"\"\"\n",
        "\n",
        "y_pred = linear.predict(X_test)\n",
        "\n",
        "from sklearn import metrics\n",
        "print('Mean Absolute Error:', metrics.mean_absolute_error(y_test, y_pred))\n",
        "print('Mean Squared Error:', metrics.mean_squared_error(y_test, y_pred))\n",
        "print('Root Mean Squared Error:', np.sqrt(metrics.mean_squared_error(y_test, y_pred)))"
      ]
    },
    {
      "cell_type": "markdown",
      "id": "0d437b47-e83c-4180-a7b2-a6a5e53ec453",
      "metadata": {
        "id": "0d437b47-e83c-4180-a7b2-a6a5e53ec453"
      },
      "source": [
        "This is the most basic ordinary linear regression. Of course, we have options for more advanced linear regression models such as Ridge/Lasso regression, Poisson regression, Bayesian regression, and Generalized Linear Models(GLM), etc. Check https://scikit-learn.org/stable/modules/linear_model.html for the descriptions of these other models. "
      ]
    },
    {
      "cell_type": "markdown",
      "id": "a22164d0-4d8f-442b-88dc-276bc227a8c3",
      "metadata": {
        "id": "a22164d0-4d8f-442b-88dc-276bc227a8c3"
      },
      "source": [
        "## 3.2 Logistic Regression"
      ]
    },
    {
      "cell_type": "markdown",
      "id": "ce1c2e31-9ac5-4104-99b8-58eeea46f4a9",
      "metadata": {
        "id": "ce1c2e31-9ac5-4104-99b8-58eeea46f4a9"
      },
      "source": [
        "In most real-world problems, people are more interested in asking \"which one\" instead of \"how many\". For example, the algorithm in your email that detects spam messages makes a binary classification. For the rest of talk, we will focus on some of the commonly used machine learning algorithms that make classifications. "
      ]
    },
    {
      "cell_type": "markdown",
      "id": "c1b8519a-8c0e-455f-829a-73482249023e",
      "metadata": {
        "id": "c1b8519a-8c0e-455f-829a-73482249023e"
      },
      "source": [
        "Same as before, we load the dataset. For classification problems we use `fetch_covtype`. We can obtain an overview of the data but we will skip that. The entire dataset has 581,012 rows(entries) and 54 columns(features). 10 features are numerical and 2 are categorical. The categorical variables are one-hot-encoded. The response variable has 7 classes, which indicates 7 different types of forest cover. Since 581,012 entries are too many for a demonstration, we randomly take 10,000 of those. In addition, we also load `LogisticRegression` function to build our logistic regression model. "
      ]
    },
    {
      "cell_type": "code",
      "execution_count": null,
      "id": "96660b07-bed9-440a-bb62-bec9f55c9259",
      "metadata": {
        "id": "96660b07-bed9-440a-bb62-bec9f55c9259"
      },
      "outputs": [],
      "source": [
        "from sklearn.datasets import fetch_covtype\n",
        "from sklearn.linear_model import LogisticRegression"
      ]
    },
    {
      "cell_type": "code",
      "execution_count": null,
      "id": "248269ef-db79-49b1-a5c1-3c3e2a937924",
      "metadata": {
        "id": "248269ef-db79-49b1-a5c1-3c3e2a937924"
      },
      "outputs": [],
      "source": [
        "\"\"\" Load and split data into training & testing sets \"\"\"\n",
        "\n",
        "X, y = fetch_covtype(return_X_y=True, shuffle=True, random_state=2022)\n",
        "X, y = X[:10000, :], y[:10000]\n",
        "X_train, X_test, y_train, y_test = train_test_split(X, y, test_size=0.2, random_state=42)\n",
        "\n",
        "scaler = preprocessing.StandardScaler()                   # Standardize the numerical features\n",
        "X_train[:, :10] = scaler.fit_transform(X_train[:, :10])\n",
        "X_test[:, :10] = scaler.transform(X_test[:,:10])"
      ]
    },
    {
      "cell_type": "markdown",
      "id": "6ff933ed-265e-4c31-b553-6171973133dc",
      "metadata": {
        "id": "6ff933ed-265e-4c31-b553-6171973133dc"
      },
      "source": [
        "Now we can fit the model and pull out the estimated coefficients as below: "
      ]
    },
    {
      "cell_type": "code",
      "execution_count": null,
      "id": "0b178888-0376-4538-950e-5c81845d3127",
      "metadata": {
        "id": "0b178888-0376-4538-950e-5c81845d3127",
        "outputId": "cd6de430-8a1d-4a1c-91c1-ce4a5b8c6d91"
      },
      "outputs": [
        {
          "name": "stdout",
          "output_type": "stream",
          "text": [
            "Estimated Intercept 3.54894690994296\n",
            "Estimated Coefficients [ 2.93729388e+00 -2.09022458e-01  7.62418969e-02 -2.36524407e-01\n",
            " -2.02269131e-01 -1.28690898e-01 -9.78460313e-02 -3.80877271e-01\n",
            "  3.58792548e-01 -1.33134983e-01  1.86750004e+00  5.12483838e-01\n",
            "  2.17833091e-01 -2.12977384e-01 -1.79483883e-02 -4.40056015e-01\n",
            " -1.54135401e-01 -8.97493746e-01 -3.18127093e-03 -5.11915979e-02\n",
            " -7.49990000e-02 -8.71276410e-02  9.86787960e-01  3.70541559e-01\n",
            "  5.38311125e-01  4.26213634e-01 -4.65552511e-01 -1.74794246e-03\n",
            "  0.00000000e+00  2.30892054e-01 -2.73792759e-01 -2.04214515e-01\n",
            " -9.50912494e-02  9.60093903e-01  1.11913674e+00  1.23902649e+00\n",
            "  8.00402910e-01  5.69170386e-01 -5.13238324e-01 -1.75186665e-01\n",
            "  2.35056348e-01 -3.60453703e-01  5.86874088e-02 -7.33765026e-01\n",
            "  9.78482612e-01  8.88251320e-02  5.77396373e-01 -1.06076895e+00\n",
            " -1.28795574e-01  0.00000000e+00 -7.55045698e-01 -2.08545805e-01\n",
            "  1.11575080e-01 -2.03428356e-01]\n"
          ]
        }
      ],
      "source": [
        "logistic = LogisticRegression(penalty='l2', C= 1, solver=\"saga\", tol=0.005)\n",
        "logistic.fit(X_train, y_train)\n",
        "\n",
        "print(\"Estimated Intercept\", logistic.intercept_[0])\n",
        "print(\"Estimated Coefficients\", logistic.coef_[0])"
      ]
    },
    {
      "cell_type": "markdown",
      "id": "08a266f0-4af4-4c73-b927-81b32ce8a7a0",
      "metadata": {
        "id": "08a266f0-4af4-4c73-b927-81b32ce8a7a0"
      },
      "source": [
        "For some of the parameters, think of the definition of Lasso (or Ridge resp.) \n",
        "$$\\min_{\\beta \\in R^p} \\| y - X \\beta \\|_2^2 + \\lambda \\| \\beta \\|_1,$$ \n",
        "or (resp.)\n",
        "$$\\min_{\\beta \\in R^p} \\| y - X \\beta \\|_2^2 + \\lambda \\| \\beta \\|_2^2.$$ \n",
        "Lasso has a l1 penalty while Ridge has a l2 penalty. C is inverse of regularization strength; smaller values specify stronger regularization."
      ]
    },
    {
      "cell_type": "markdown",
      "id": "3f912ab4-943b-4617-8dcc-ef98e268fc60",
      "metadata": {
        "id": "3f912ab4-943b-4617-8dcc-ef98e268fc60"
      },
      "source": [
        "How should I know what value to put for each parameter? Cross-validation! For example, we can cross-validate some different values of C. Of course, the powerful `Sklearn` has `cross_val_score` or `cross_validate` so we do not have to write our cross validation code manually. "
      ]
    },
    {
      "cell_type": "code",
      "execution_count": null,
      "id": "5a0e3836-72ee-4b37-8100-c2759bd4355e",
      "metadata": {
        "id": "5a0e3836-72ee-4b37-8100-c2759bd4355e",
        "outputId": "9353721b-cc3a-425b-ce92-28f707f73b9e"
      },
      "outputs": [
        {
          "data": {
            "text/plain": [
              "<matplotlib.legend.Legend at 0x7fb8c3f75eb0>"
            ]
          },
          "execution_count": 24,
          "metadata": {},
          "output_type": "execute_result"
        },
        {
          "data": {
            "image/png": "[encoded data removed]",
            "text/plain": [
              "<Figure size 432x288 with 1 Axes>"
            ]
          },
          "metadata": {
            "needs_background": "light"
          },
          "output_type": "display_data"
        }
      ],
      "source": [
        "from sklearn.model_selection import cross_validate, cross_val_score\n",
        "C = [0.01, .25, .5, .75, 1, 3, 5]\n",
        "\n",
        "test_scores, train_scores = [], []\n",
        "\n",
        "for c in C: \n",
        "    logistic = LogisticRegression(penalty='l1', C= c, solver=\"saga\", tol=0.005)\n",
        "    logistic.fit(X_train, y_train)\n",
        "    scores = cross_validate(logistic, X_train, y_train, cv=5, n_jobs=4, return_train_score=True)\n",
        "    test_scores.append(scores['test_score'].tolist())\n",
        "    train_scores. append(scores['train_score'].tolist())\n",
        "\n",
        "test_ave, train_ave = np.array(test_scores).mean(axis=1), np.array(train_scores).mean(axis=1)\n",
        "\n",
        "plt.plot(C, train_ave, label=\"Train\")\n",
        "plt.plot(C, test_ave, label=\"Test\")\n",
        "plt.title(\"Test and Train Scores with different Costs\")\n",
        "plt.legend()"
      ]
    },
    {
      "cell_type": "markdown",
      "id": "43d232cd-7508-498c-88c6-1ada06f35ecd",
      "metadata": {
        "id": "43d232cd-7508-498c-88c6-1ada06f35ecd"
      },
      "source": [
        "Finally, we make predictions on our testing set. "
      ]
    },
    {
      "cell_type": "code",
      "execution_count": null,
      "id": "4638a53f-28ef-4eb2-81c2-07e8a67ecab2",
      "metadata": {
        "id": "4638a53f-28ef-4eb2-81c2-07e8a67ecab2",
        "outputId": "8c42aa45-3eff-403e-8309-364653dc6e60"
      },
      "outputs": [
        {
          "data": {
            "text/html": [
              "<div>\n",
              "<style scoped>\n",
              "    .dataframe tbody tr th:only-of-type {\n",
              "        vertical-align: middle;\n",
              "    }\n",
              "\n",
              "    .dataframe tbody tr th {\n",
              "        vertical-align: top;\n",
              "    }\n",
              "\n",
              "    .dataframe thead th {\n",
              "        text-align: right;\n",
              "    }\n",
              "</style>\n",
              "<table border=\"1\" class=\"dataframe\">\n",
              "  <thead>\n",
              "    <tr style=\"text-align: right;\">\n",
              "      <th></th>\n",
              "      <th>Actual</th>\n",
              "      <th>Predicted</th>\n",
              "    </tr>\n",
              "  </thead>\n",
              "  <tbody>\n",
              "    <tr>\n",
              "      <th>0</th>\n",
              "      <td>1</td>\n",
              "      <td>2</td>\n",
              "    </tr>\n",
              "    <tr>\n",
              "      <th>1</th>\n",
              "      <td>2</td>\n",
              "      <td>2</td>\n",
              "    </tr>\n",
              "    <tr>\n",
              "      <th>2</th>\n",
              "      <td>1</td>\n",
              "      <td>1</td>\n",
              "    </tr>\n",
              "    <tr>\n",
              "      <th>3</th>\n",
              "      <td>1</td>\n",
              "      <td>1</td>\n",
              "    </tr>\n",
              "    <tr>\n",
              "      <th>4</th>\n",
              "      <td>2</td>\n",
              "      <td>2</td>\n",
              "    </tr>\n",
              "    <tr>\n",
              "      <th>5</th>\n",
              "      <td>6</td>\n",
              "      <td>6</td>\n",
              "    </tr>\n",
              "    <tr>\n",
              "      <th>6</th>\n",
              "      <td>1</td>\n",
              "      <td>1</td>\n",
              "    </tr>\n",
              "    <tr>\n",
              "      <th>7</th>\n",
              "      <td>2</td>\n",
              "      <td>2</td>\n",
              "    </tr>\n",
              "    <tr>\n",
              "      <th>8</th>\n",
              "      <td>2</td>\n",
              "      <td>2</td>\n",
              "    </tr>\n",
              "    <tr>\n",
              "      <th>9</th>\n",
              "      <td>3</td>\n",
              "      <td>3</td>\n",
              "    </tr>\n",
              "  </tbody>\n",
              "</table>\n",
              "</div>"
            ],
            "text/plain": [
              "   Actual  Predicted\n",
              "0       1          2\n",
              "1       2          2\n",
              "2       1          1\n",
              "3       1          1\n",
              "4       2          2\n",
              "5       6          6\n",
              "6       1          1\n",
              "7       2          2\n",
              "8       2          2\n",
              "9       3          3"
            ]
          },
          "execution_count": 26,
          "metadata": {},
          "output_type": "execute_result"
        }
      ],
      "source": [
        "target_names = ['class 1', 'class 2', 'class 3', 'class 4', 'class 5', 'class 6', 'class 7']\n",
        "y_pred = logistic.predict(X_test)\n",
        "df = pd.DataFrame({'Actual': y_test, 'Predicted': y_pred})\n",
        "df.head(10)"
      ]
    },
    {
      "cell_type": "markdown",
      "id": "4a824f04-6c62-421c-895f-5fbf985621f0",
      "metadata": {
        "id": "4a824f04-6c62-421c-895f-5fbf985621f0"
      },
      "source": [
        "For a more complete report, simply use `classification_report`. "
      ]
    },
    {
      "cell_type": "code",
      "execution_count": null,
      "id": "ff0be7bd-56cd-4267-9986-9e9c801e50de",
      "metadata": {
        "id": "ff0be7bd-56cd-4267-9986-9e9c801e50de",
        "outputId": "b1ccd567-0bb6-47b7-c657-b4325f927ed7"
      },
      "outputs": [
        {
          "name": "stdout",
          "output_type": "stream",
          "text": [
            "              precision    recall  f1-score   support\n",
            "\n",
            "     class 1       0.70      0.68      0.69       748\n",
            "     class 2       0.73      0.79      0.76       944\n",
            "     class 3       0.71      0.82      0.76       136\n",
            "     class 4       0.90      0.53      0.67        17\n",
            "     class 5       0.00      0.00      0.00        30\n",
            "     class 6       0.46      0.25      0.32        53\n",
            "     class 7       0.73      0.50      0.60        72\n",
            "\n",
            "    accuracy                           0.71      2000\n",
            "   macro avg       0.61      0.51      0.54      2000\n",
            "weighted avg       0.70      0.71      0.70      2000\n",
            "\n"
          ]
        }
      ],
      "source": [
        "from sklearn.metrics import classification_report\n",
        "print(classification_report(y_test, y_pred, target_names=target_names))"
      ]
    },
    {
      "cell_type": "markdown",
      "id": "77bda62e-4b12-4552-900a-fe45478b1952",
      "metadata": {
        "id": "77bda62e-4b12-4552-900a-fe45478b1952"
      },
      "source": [
        "A quick summary: we have covered the method of fitting regression models, pulling out regression coefficients, making predictions, generating prediction reports, and tuning parameters using cross-validation (all with functions in `Sklearn`)!"
      ]
    },
    {
      "cell_type": "markdown",
      "id": "689262d6-6f15-42c9-9706-c917fa8e9aaa",
      "metadata": {
        "id": "689262d6-6f15-42c9-9706-c917fa8e9aaa"
      },
      "source": [
        "## 4 Support Vector Machines (SVMs)"
      ]
    },
    {
      "cell_type": "markdown",
      "id": "b504057c-14bb-4fde-b0e5-b2cb0a055fb5",
      "metadata": {
        "id": "b504057c-14bb-4fde-b0e5-b2cb0a055fb5"
      },
      "source": [
        "We now start to discuss some machine learning topics. The SVM would be one of these. Briefly recall that a Support Vector Classifier (also called Soft Margin Classifier) is an extension of the Maximal Margin Classifier (also called Hard Margin Classifier) in the sense that we would misclassify a few training observations in order to do a better job in classifying the remaining observations. The SVM is a further generalization of the Support Vector Classifier by enlarging the linear classifier space (or called linear kernal) to accomodate nonlinear classiers (or called nonlinear kernals). Commonly used kernels include `linear`, `polynomial`, and `radial basis` kernels. See pictures [James, et al.] below. "
      ]
    },
    {
      "cell_type": "markdown",
      "id": "17603d6c-6a85-4e12-ac4d-db5ffc5fe772",
      "metadata": {
        "id": "17603d6c-6a85-4e12-ac4d-db5ffc5fe772"
      },
      "source": [
        "Maximum Margin Classifier | Support Vector Classifier | Support Vector Machine\n",
        "---| --- | ---\n",
        "![alt](Hard.png) | ![alt](Soft.png) | ![alt](Nonlinear.png)"
      ]
    },
    {
      "cell_type": "code",
      "execution_count": null,
      "id": "d31d5403-f04a-439d-9984-24321c4209b5",
      "metadata": {
        "id": "d31d5403-f04a-439d-9984-24321c4209b5",
        "outputId": "57b4c445-6779-4f2b-e680-e1af215ba965"
      },
      "outputs": [
        {
          "data": {
            "text/plain": [
              "<matplotlib.legend.Legend at 0x7fb8d3dd1b50>"
            ]
          },
          "execution_count": 31,
          "metadata": {},
          "output_type": "execute_result"
        },
        {
          "data": {
            "image/png": "[encoded data removed]",
            "text/plain": [
              "<Figure size 432x288 with 1 Axes>"
            ]
          },
          "metadata": {
            "needs_background": "light"
          },
          "output_type": "display_data"
        }
      ],
      "source": [
        "from sklearn import svm\n",
        "\n",
        "C = [0.01, .25, .75, 2, 5, 7]\n",
        "\n",
        "test_scores, train_scores = [], []\n",
        "\n",
        "for c in C: \n",
        "    SVM = svm.SVC(kernel=\"rbf\", C=c, gamma= 'scale', tol = 1e-3)\n",
        "    SVM.fit(X_train, y_train)\n",
        "    scores = cross_validate(SVM, X_train, y_train, cv=5, n_jobs=4, return_train_score=True)\n",
        "    test_scores.append(scores['test_score'].tolist())\n",
        "    train_scores.append(scores['train_score'].tolist())\n",
        "\n",
        "test_ave, train_ave = np.array(test_scores).mean(axis=1), np.array(train_scores).mean(axis=1)\n",
        "\n",
        "plt.plot(C, train_ave, label=\"Train\")\n",
        "plt.plot(C, test_ave, label=\"Test\")\n",
        "plt.title(\"Test and Train Scores with different Costs\")\n",
        "plt.legend()"
      ]
    },
    {
      "cell_type": "code",
      "execution_count": null,
      "id": "979197c0-a532-4a86-a649-ba048bbcfe70",
      "metadata": {
        "id": "979197c0-a532-4a86-a649-ba048bbcfe70",
        "outputId": "61b9d246-1bf6-4dd7-8da7-89c994f98e6f"
      },
      "outputs": [
        {
          "name": "stdout",
          "output_type": "stream",
          "text": [
            "              precision    recall  f1-score   support\n",
            "\n",
            "     class 1       0.78      0.74      0.76       748\n",
            "     class 2       0.78      0.84      0.81       944\n",
            "     class 3       0.75      0.80      0.77       136\n",
            "     class 4       0.91      0.59      0.71        17\n",
            "     class 5       1.00      0.13      0.24        30\n",
            "     class 6       0.50      0.45      0.48        53\n",
            "     class 7       0.85      0.61      0.71        72\n",
            "\n",
            "    accuracy                           0.77      2000\n",
            "   macro avg       0.79      0.60      0.64      2000\n",
            "weighted avg       0.78      0.77      0.77      2000\n",
            "\n"
          ]
        }
      ],
      "source": [
        "SVM = svm.SVC(kernel=\"rbf\", C=5, gamma= 'scale', tol = 1e-5)\n",
        "\n",
        "SVM.fit(X_train, y_train)\n",
        "y_pred = SVM.predict(X_test)\n",
        "\n",
        "print(classification_report(y_test, y_pred, target_names=target_names))"
      ]
    },
    {
      "cell_type": "markdown",
      "id": "f2bbb548-f924-4227-b6ae-61f009ae85c3",
      "metadata": {
        "id": "f2bbb548-f924-4227-b6ae-61f009ae85c3"
      },
      "source": [
        "We can also choose to print out a confusion matrix to check misclassifications. "
      ]
    },
    {
      "cell_type": "code",
      "execution_count": null,
      "id": "212f30f1-6738-4ffb-b779-382f5808a41e",
      "metadata": {
        "id": "212f30f1-6738-4ffb-b779-382f5808a41e",
        "outputId": "73282561-d6e8-4415-e628-4c6f9558745a"
      },
      "outputs": [
        {
          "name": "stdout",
          "output_type": "stream",
          "text": [
            "Confusion Matrix\n",
            "[[556 187   0   0   0   0   5]\n",
            " [128 797   9   0   0   7   3]\n",
            " [  0  10 109   1   0  16   0]\n",
            " [  0   0   6  10   0   1   0]\n",
            " [  1  23   2   0   4   0   0]\n",
            " [  1   8  20   0   0  24   0]\n",
            " [ 28   0   0   0   0   0  44]]\n"
          ]
        }
      ],
      "source": [
        "print('Confusion Matrix')\n",
        "print(metrics.confusion_matrix(y_true=y_test, y_pred = y_pred))"
      ]
    },
    {
      "cell_type": "markdown",
      "id": "6c89c575-7bb9-45c6-bf92-e78a1f50a049",
      "metadata": {
        "id": "6c89c575-7bb9-45c6-bf92-e78a1f50a049"
      },
      "source": [
        "Numbers along the diagnol represents the number of correct preditions for the class. Off-diagnol numbers represent the number of misclassifications. As an example, 128 can be interpreted that there 128 samples from class 2 that are misclassified to class 1. "
      ]
    },
    {
      "cell_type": "markdown",
      "id": "5a6e899e-f975-4a34-9a33-17c17a6b8d05",
      "metadata": {
        "id": "5a6e899e-f975-4a34-9a33-17c17a6b8d05"
      },
      "source": [
        "# 5 Tree Based Classification Algorithms"
      ]
    },
    {
      "cell_type": "markdown",
      "id": "e20d4602-c0dd-421c-b722-855ae85ee9b1",
      "metadata": {
        "id": "e20d4602-c0dd-421c-b722-855ae85ee9b1"
      },
      "source": [
        "Another major field of nonlinear classification is the tree-based methods. Basically, we recursively do binary splittings to grow a tree. There are two types of tree models. The regression trees predict quantitative responses. Commonly used criteria for making splits is the residual sum of squares (RSS). Classification trees make class prediction. Criterias for making splits including Gini index \n",
        "\n",
        "$$ G = \\sum_{k=1}^K \\hat{p}_{mk} (1 - \\hat{p}_{mk})$$ \n",
        "\n",
        "and cross-entropy\n",
        "\n",
        "$$ C = -\\sum_{k=1}^K \\hat{p}_{mk} \\log\\hat{p}_{mk}, $$ \n",
        "\n",
        "where $\\hat{p}_{mk}$ represents the proportion of training observations in the $m$th region that are from the $k$th class. Both criteria measure the node purity. "
      ]
    },
    {
      "cell_type": "markdown",
      "id": "0c658dc5-5bb1-4bc0-ada1-952a155310ac",
      "metadata": {
        "id": "0c658dc5-5bb1-4bc0-ada1-952a155310ac"
      },
      "source": [
        "## 5.1 Decision Tree"
      ]
    },
    {
      "cell_type": "markdown",
      "id": "19744947-ed9a-4255-a7c7-a48e20c11298",
      "metadata": {
        "id": "19744947-ed9a-4255-a7c7-a48e20c11298"
      },
      "source": [
        "Building only one tree is the most basic model in the family of tree based algorithms "
      ]
    },
    {
      "cell_type": "code",
      "execution_count": null,
      "id": "68eb182f-7877-4369-aea3-ef728037f243",
      "metadata": {
        "id": "68eb182f-7877-4369-aea3-ef728037f243",
        "outputId": "d719b083-3943-45f2-c922-751fc0bf0e1b"
      },
      "outputs": [
        {
          "name": "stdout",
          "output_type": "stream",
          "text": [
            "Depth 5 Min samples split 10\n",
            "0.7002499999999999\n",
            "Depth 5 Min samples split 100\n",
            "0.697\n",
            "Depth 5 Min samples split 200\n",
            "0.6975\n",
            "Depth 5 Min samples split 400\n",
            "0.6885\n",
            "Depth 5 Min samples split 800\n",
            "0.6815\n",
            "Depth 10 Min samples split 10\n",
            "0.724125\n",
            "Depth 10 Min samples split 100\n",
            "0.703375\n",
            "Depth 10 Min samples split 200\n",
            "0.704125\n",
            "Depth 10 Min samples split 400\n",
            "0.693375\n",
            "Depth 10 Min samples split 800\n",
            "0.682875\n",
            "Depth 15 Min samples split 10\n",
            "0.7247499999999999\n",
            "Depth 15 Min samples split 100\n",
            "0.7025\n",
            "Depth 15 Min samples split 200\n",
            "0.7028749999999999\n",
            "Depth 15 Min samples split 400\n",
            "0.692875\n",
            "Depth 15 Min samples split 800\n",
            "0.683\n",
            "Depth 20 Min samples split 10\n",
            "0.71225\n",
            "Depth 20 Min samples split 100\n",
            "0.70075\n",
            "Depth 20 Min samples split 200\n",
            "0.702375\n",
            "Depth 20 Min samples split 400\n",
            "0.692875\n",
            "Depth 20 Min samples split 800\n",
            "0.683\n"
          ]
        }
      ],
      "source": [
        "from sklearn import tree \n",
        "\n",
        "max_depths = [5, 10, 15, 20]\n",
        "min_samples_splits = [10, 100, 200 ,400, 800]\n",
        "for depth in max_depths: \n",
        "    for min_samples_split in min_samples_splits: \n",
        "        Decision_tree = tree.DecisionTreeClassifier(max_depth=depth, min_samples_split=min_samples_split, \n",
        "                                                    criterion='gini')\n",
        "        accuracies = cross_val_score(Decision_tree, X_train, y_train, cv=5).mean()\n",
        "        print(\"Depth\", depth, \"Min samples split\", min_samples_split)\n",
        "        print(accuracies)"
      ]
    },
    {
      "cell_type": "markdown",
      "id": "63d38b02-2c38-4c6b-9e2c-a042e1454877",
      "metadata": {
        "id": "63d38b02-2c38-4c6b-9e2c-a042e1454877"
      },
      "source": [
        "Cross validation implies that using 15 for max_depth and 10 for min_samples_split work the best. All the model building and predction follow the same logic as we have done for the logistic regression and the SVM. "
      ]
    },
    {
      "cell_type": "markdown",
      "id": "e466472d-02dd-4b0d-9885-a26efc471503",
      "metadata": {
        "id": "e466472d-02dd-4b0d-9885-a26efc471503"
      },
      "source": [
        "# 5.2 Random Forest"
      ]
    },
    {
      "cell_type": "markdown",
      "id": "fcd32e60-d533-4b13-ba13-3397e8c92795",
      "metadata": {
        "id": "fcd32e60-d533-4b13-ba13-3397e8c92795"
      },
      "source": [
        "The random forest improves the decision tree in two aspects. One is, we build muptiple decision trees and take the majority vote. The multiple training sets can be obtained using bootstrap, by taking repeated samples from the same training dataset. This process is called bagging. The bagging procedure lowers the variance. Another improvement, the random forst provides over bagged trees, is that at each split, one only considers a random sample of $m$ features (usually $m = \\sqrt{p}$) instead of all the $p$ features. This helps avoid the issue when some of the strong predictors are so dominant in the top split that all the bagged trees look quite similar. "
      ]
    },
    {
      "cell_type": "code",
      "execution_count": null,
      "id": "402f7360-7a7b-4ce5-a328-f5cbef250b09",
      "metadata": {
        "tags": [],
        "id": "402f7360-7a7b-4ce5-a328-f5cbef250b09",
        "outputId": "91065873-82ee-42eb-8c3f-ec8fd44af4a3"
      },
      "outputs": [
        {
          "name": "stdout",
          "output_type": "stream",
          "text": [
            "Depth 15 Min samples split 5 Num of estimators 5\n",
            "0.7365\n",
            "Depth 15 Min samples split 5 Num of estimators 10\n",
            "0.7529999999999999\n",
            "Depth 15 Min samples split 5 Num of estimators 15\n",
            "0.75725\n",
            "Depth 15 Min samples split 5 Num of estimators 20\n",
            "0.760375\n",
            "Depth 15 Min samples split 10 Num of estimators 5\n",
            "0.728\n",
            "Depth 15 Min samples split 10 Num of estimators 10\n",
            "0.7484999999999999\n",
            "Depth 15 Min samples split 10 Num of estimators 15\n",
            "0.752875\n",
            "Depth 15 Min samples split 10 Num of estimators 20\n",
            "0.7536249999999999\n",
            "Depth 15 Min samples split 15 Num of estimators 5\n",
            "0.7333749999999999\n",
            "Depth 15 Min samples split 15 Num of estimators 10\n",
            "0.75\n",
            "Depth 15 Min samples split 15 Num of estimators 15\n",
            "0.751\n",
            "Depth 15 Min samples split 15 Num of estimators 20\n",
            "0.750625\n",
            "Depth 20 Min samples split 5 Num of estimators 5\n",
            "0.743875\n",
            "Depth 20 Min samples split 5 Num of estimators 10\n",
            "0.764125\n",
            "Depth 20 Min samples split 5 Num of estimators 15\n",
            "0.766\n",
            "Depth 20 Min samples split 5 Num of estimators 20\n",
            "0.7703749999999999\n",
            "Depth 20 Min samples split 10 Num of estimators 5\n",
            "0.7382500000000001\n",
            "Depth 20 Min samples split 10 Num of estimators 10\n",
            "0.75675\n",
            "Depth 20 Min samples split 10 Num of estimators 15\n",
            "0.764\n",
            "Depth 20 Min samples split 10 Num of estimators 20\n",
            "0.7657499999999999\n",
            "Depth 20 Min samples split 15 Num of estimators 5\n",
            "0.733625\n",
            "Depth 20 Min samples split 15 Num of estimators 10\n",
            "0.762375\n",
            "Depth 20 Min samples split 15 Num of estimators 15\n",
            "0.7613749999999999\n",
            "Depth 20 Min samples split 15 Num of estimators 20\n",
            "0.76025\n",
            "Depth 25 Min samples split 5 Num of estimators 5\n",
            "0.737875\n",
            "Depth 25 Min samples split 5 Num of estimators 10\n",
            "0.7630000000000001\n",
            "Depth 25 Min samples split 5 Num of estimators 15\n",
            "0.7681250000000001\n",
            "Depth 25 Min samples split 5 Num of estimators 20\n",
            "0.772875\n",
            "Depth 25 Min samples split 10 Num of estimators 5\n",
            "0.742875\n",
            "Depth 25 Min samples split 10 Num of estimators 10\n",
            "0.766125\n",
            "Depth 25 Min samples split 10 Num of estimators 15\n",
            "0.7671249999999998\n",
            "Depth 25 Min samples split 10 Num of estimators 20\n",
            "0.7695\n",
            "Depth 25 Min samples split 15 Num of estimators 5\n",
            "0.731625\n",
            "Depth 25 Min samples split 15 Num of estimators 10\n",
            "0.75975\n",
            "Depth 25 Min samples split 15 Num of estimators 15\n",
            "0.76425\n",
            "Depth 25 Min samples split 15 Num of estimators 20\n",
            "0.76475\n"
          ]
        }
      ],
      "source": [
        "from sklearn.ensemble import RandomForestClassifier\n",
        "\n",
        "max_depths = [15, 20, 25]\n",
        "min_samples_splits = [5, 10, 15]\n",
        "num_estimators = [5, 10, 15, 20]\n",
        "\n",
        "for depth in max_depths: \n",
        "    for min_samples_split in min_samples_splits: \n",
        "        for n_estimator in num_estimators:\n",
        "            rf = RandomForestClassifier(n_estimators=n_estimator, min_samples_split = min_samples_split, oob_score= True, \n",
        "                                         max_depth=depth, n_jobs = 4, random_state=42, criterion='gini')\n",
        "            accuracies = cross_val_score(rf, X_train, y_train, cv=5).mean()\n",
        "            print(\"Depth\", depth, \"Min samples split\", min_samples_split, \"Num of estimators\", n_estimator)\n",
        "            print(accuracies)"
      ]
    },
    {
      "cell_type": "markdown",
      "id": "17d9bd4e-3766-4b14-a967-59e31ac18f66",
      "metadata": {
        "id": "17d9bd4e-3766-4b14-a967-59e31ac18f66"
      },
      "source": [
        "The random forest function also provides a variable importance measure. It is normally computed as the total reduction of the criterion brought by that feature. See more details here https://inria.github.io/scikit-learn-mooc/python_scripts/dev_features_importance.html. We first check the top 10 important features. "
      ]
    },
    {
      "cell_type": "code",
      "execution_count": null,
      "id": "740de01a-a6a2-46a2-b566-d6f14301e2e5",
      "metadata": {
        "id": "740de01a-a6a2-46a2-b566-d6f14301e2e5",
        "outputId": "148c44ae-b9a2-4c34-fca9-c794a5e588f6"
      },
      "outputs": [
        {
          "data": {
            "image/png": "[encoded data removed]",
            "text/plain": [
              "<Figure size 432x288 with 1 Axes>"
            ]
          },
          "metadata": {
            "needs_background": "light"
          },
          "output_type": "display_data"
        }
      ],
      "source": [
        "rf = RandomForestClassifier(n_estimators=20, min_samples_split = 5, oob_score= True, \n",
        "                             max_depth=25, random_state=42)\n",
        "rf.fit(X_train, y_train)\n",
        "\n",
        "importances = rf.feature_importances_\n",
        "top10_indices = np.argsort(-importances)[0:10]\n",
        "\n",
        "fig, ax = plt.subplots()\n",
        "ax.barh(range(len(top10_indices)), importances[top10_indices][::-1])\n",
        "ax.set_yticks(range(len(top10_indices)))\n",
        "_ = ax.set_yticklabels(np.array(fetch_covtype().feature_names)[top10_indices][::-1])"
      ]
    },
    {
      "cell_type": "markdown",
      "id": "2629f996-7668-419e-bde8-6511a70d61f7",
      "metadata": {
        "id": "2629f996-7668-419e-bde8-6511a70d61f7"
      },
      "source": [
        "And then the bottom 10 variables that are least important. "
      ]
    },
    {
      "cell_type": "code",
      "execution_count": null,
      "id": "fa4c70a6-8170-4e9a-9a87-7ab52512abf7",
      "metadata": {
        "id": "fa4c70a6-8170-4e9a-9a87-7ab52512abf7",
        "outputId": "bc1aee00-c6b3-440f-e85d-ea32786c8a61"
      },
      "outputs": [
        {
          "data": {
            "image/png": "[encoded data removed]",
            "text/plain": [
              "<Figure size 432x288 with 1 Axes>"
            ]
          },
          "metadata": {
            "needs_background": "light"
          },
          "output_type": "display_data"
        }
      ],
      "source": [
        "least10_indices = np.argsort(importances)[0:10]\n",
        "\n",
        "fig, ax = plt.subplots()\n",
        "ax.barh(range(len(least10_indices)), importances[least10_indices])\n",
        "ax.set_yticks(range(len(least10_indices)))\n",
        "_ = ax.set_yticklabels(np.array(fetch_covtype().feature_names)[least10_indices])"
      ]
    },
    {
      "cell_type": "markdown",
      "id": "b64aa2ef-9bec-437d-8713-3f54801ab7e3",
      "metadata": {
        "id": "b64aa2ef-9bec-437d-8713-3f54801ab7e3"
      },
      "source": [
        "There are other types of tree-based mathods such as Boosting, Adaboost, and Gradient Boosting. Implementations are all similar to the other classification models earlier. We will not discuss them here. "
      ]
    },
    {
      "cell_type": "markdown",
      "id": "a41659dc-4b89-45a6-84d4-4429cbbd07f8",
      "metadata": {
        "id": "a41659dc-4b89-45a6-84d4-4429cbbd07f8"
      },
      "source": [
        "# 6 Dimension Reduction Method "
      ]
    },
    {
      "cell_type": "markdown",
      "id": "33322f3c-445b-4c84-a15f-5baacae452c1",
      "metadata": {
        "id": "33322f3c-445b-4c84-a15f-5baacae452c1"
      },
      "source": [
        "One major dimension reduction method is known as the Principle Component Analysis (PCA). The idea is that we would like to find a lower-dimensional representation of the data that captures as much of the information as possible, as shown in the figure [James, et al.]. This is commonly used in an exploratory data analysis. "
      ]
    },
    {
      "cell_type": "markdown",
      "id": "ec5496dc-cc3f-4477-b027-328ec36c65d6",
      "metadata": {
        "id": "ec5496dc-cc3f-4477-b027-328ec36c65d6"
      },
      "source": [
        "<img src=\"PCA.png\" alt=\"drawing\" class=\"center\" width=\"600\"/>"
      ]
    },
    {
      "cell_type": "markdown",
      "id": "9d409c5f-c0f8-4627-9bc3-8c0d81a52e35",
      "metadata": {
        "id": "9d409c5f-c0f8-4627-9bc3-8c0d81a52e35"
      },
      "source": [
        "I found this example a very good illustration of how the PCA works. https://scikit-learn.org/stable/auto_examples/applications/plot_face_recognition.html. "
      ]
    },
    {
      "cell_type": "code",
      "execution_count": null,
      "id": "316b8bac-ef0d-4e85-a5e1-9b42147a2cc0",
      "metadata": {
        "id": "316b8bac-ef0d-4e85-a5e1-9b42147a2cc0"
      },
      "outputs": [],
      "source": [
        "from sklearn.model_selection import RandomizedSearchCV\n",
        "from sklearn.datasets import fetch_lfw_people\n",
        "from sklearn.decomposition import PCA\n",
        "from sklearn.utils.fixes import loguniform"
      ]
    },
    {
      "cell_type": "code",
      "execution_count": null,
      "id": "cebaa6f2-1c44-4bcf-8b85-1e6bc660be2e",
      "metadata": {
        "id": "cebaa6f2-1c44-4bcf-8b85-1e6bc660be2e",
        "outputId": "1041ec94-01b8-4ffb-b9e9-8fb81a5511b7"
      },
      "outputs": [
        {
          "name": "stdout",
          "output_type": "stream",
          "text": [
            "Total dataset size:\n",
            "n_samples: 1288\n",
            "n_features: 1850\n",
            "n_classes: 7\n"
          ]
        }
      ],
      "source": [
        "lfw_people = fetch_lfw_people(min_faces_per_person=70, resize=0.4)\n",
        "\n",
        "# introspect the images arrays to find the shapes (for plotting)\n",
        "n_samples, h, w = lfw_people.images.shape\n",
        "\n",
        "# for machine learning we use the 2 data directly (as relative pixel\n",
        "# positions info is ignored by this model)\n",
        "X = lfw_people.data\n",
        "n_features = X.shape[1]\n",
        "\n",
        "# the label to predict is the id of the person\n",
        "y = lfw_people.target\n",
        "target_names = lfw_people.target_names\n",
        "n_classes = target_names.shape[0]\n",
        "\n",
        "print(\"Total dataset size:\")\n",
        "print(\"n_samples: %d\" % n_samples)\n",
        "print(\"n_features: %d\" % n_features)\n",
        "print(\"n_classes: %d\" % n_classes)"
      ]
    },
    {
      "cell_type": "code",
      "execution_count": null,
      "id": "666a7e7d-b31d-47f8-8776-7690f393377e",
      "metadata": {
        "id": "666a7e7d-b31d-47f8-8776-7690f393377e"
      },
      "outputs": [],
      "source": [
        "X_train, X_test, y_train, y_test = train_test_split(\n",
        "    X, y, test_size=0.25, random_state=42\n",
        ")\n",
        "\n",
        "scaler = preprocessing.StandardScaler()\n",
        "X_train = scaler.fit_transform(X_train)\n",
        "X_test = scaler.transform(X_test)"
      ]
    },
    {
      "cell_type": "code",
      "execution_count": null,
      "id": "e345c271-eaa4-44a1-a9fd-e691b9b5205b",
      "metadata": {
        "id": "e345c271-eaa4-44a1-a9fd-e691b9b5205b",
        "outputId": "dd842f2c-77a1-4ce3-c056-afcfbc1aebb6"
      },
      "outputs": [
        {
          "name": "stdout",
          "output_type": "stream",
          "text": [
            "Extracting the top 150 eigenfaces from 966 faces\n",
            "Projecting the input data on the eigenfaces orthonormal basis\n"
          ]
        }
      ],
      "source": [
        "n_components = 150\n",
        "\n",
        "print(\n",
        "    \"Extracting the top %d eigenfaces from %d faces\" % (n_components, X_train.shape[0])\n",
        ")\n",
        "pca = PCA(n_components=n_components, svd_solver=\"randomized\", whiten=True).fit(X_train)\n",
        "\n",
        "eigenfaces = pca.components_.reshape((n_components, h, w))\n",
        "\n",
        "print(\"Projecting the input data on the eigenfaces orthonormal basis\")\n",
        "X_train_pca = pca.transform(X_train)\n",
        "X_test_pca = pca.transform(X_test)"
      ]
    },
    {
      "cell_type": "markdown",
      "id": "d1ae0230-0db8-45b5-b004-99274e12c473",
      "metadata": {
        "id": "d1ae0230-0db8-45b5-b004-99274e12c473"
      },
      "source": [
        "Note that we are only using the top 150 principle components instead of all of the 966 observations. SVM is then used to fit our model. The grid search here is similar to the cross-validation as we have used in the previous sections. "
      ]
    },
    {
      "cell_type": "code",
      "execution_count": null,
      "id": "bae1824c-9be1-4a72-af5a-9a6aa89bd8fe",
      "metadata": {
        "id": "bae1824c-9be1-4a72-af5a-9a6aa89bd8fe",
        "outputId": "13176a9d-4942-41df-ab00-3bf1bdf1e9eb"
      },
      "outputs": [
        {
          "name": "stdout",
          "output_type": "stream",
          "text": [
            "Fitting the classifier to the training set\n",
            "Best estimator found by grid search:\n",
            "SVC(C=47344.06224719006, class_weight='balanced', gamma=0.0021643244724541075)\n"
          ]
        }
      ],
      "source": [
        "print(\"Fitting the classifier to the training set\")\n",
        "param_grid = {\n",
        "    \"C\": loguniform(1e3, 1e5),\n",
        "    \"gamma\": loguniform(1e-4, 1e-1),\n",
        "}\n",
        "clf = RandomizedSearchCV(\n",
        "    svm.SVC(kernel=\"rbf\", class_weight=\"balanced\"), param_grid, n_iter=10\n",
        ")\n",
        "clf = clf.fit(X_train_pca, y_train)\n",
        "print(\"Best estimator found by grid search:\")\n",
        "print(clf.best_estimator_)"
      ]
    },
    {
      "cell_type": "code",
      "execution_count": null,
      "id": "292fb0d1-a5d2-4be3-9d46-90fa5f904651",
      "metadata": {
        "id": "292fb0d1-a5d2-4be3-9d46-90fa5f904651",
        "outputId": "17df9879-e931-4366-ef11-b0679af3f131"
      },
      "outputs": [
        {
          "name": "stdout",
          "output_type": "stream",
          "text": [
            "Predicting people's names on the test set\n",
            "                   precision    recall  f1-score   support\n",
            "\n",
            "     Ariel Sharon       0.59      0.77      0.67        13\n",
            "     Colin Powell       0.76      0.88      0.82        60\n",
            "  Donald Rumsfeld       0.83      0.74      0.78        27\n",
            "    George W Bush       0.93      0.93      0.93       146\n",
            "Gerhard Schroeder       0.91      0.80      0.85        25\n",
            "      Hugo Chavez       0.82      0.60      0.69        15\n",
            "       Tony Blair       0.91      0.81      0.85        36\n",
            "\n",
            "         accuracy                           0.86       322\n",
            "        macro avg       0.82      0.79      0.80       322\n",
            "     weighted avg       0.87      0.86      0.86       322\n",
            "\n"
          ]
        },
        {
          "data": {
            "text/plain": [
              "<Figure size 432x288 with 0 Axes>"
            ]
          },
          "metadata": {},
          "output_type": "display_data"
        }
      ],
      "source": [
        "print(\"Predicting people's names on the test set\")\n",
        "y_pred = clf.predict(X_test_pca)\n",
        "\n",
        "print(classification_report(y_test, y_pred, target_names=target_names))\n",
        "plt.tight_layout()\n",
        "plt.show()"
      ]
    },
    {
      "cell_type": "code",
      "execution_count": null,
      "id": "274923c6-db58-4218-b916-ae0eb8c0de67",
      "metadata": {
        "id": "274923c6-db58-4218-b916-ae0eb8c0de67",
        "outputId": "7d3411a4-10d2-478f-efd9-3b9ad0e253a8"
      },
      "outputs": [
        {
          "data": {
            "image/png": "[encoded data removed]",
            "text/plain": [
              "<Figure size 518.4x518.4 with 12 Axes>"
            ]
          },
          "metadata": {},
          "output_type": "display_data"
        }
      ],
      "source": [
        "def plot_gallery(images, titles, h, w, n_row=3, n_col=4):\n",
        "    \"\"\"Helper function to plot a gallery of portraits\"\"\"\n",
        "    plt.figure(figsize=(1.8 * n_col, 2.4 * n_row))\n",
        "    plt.subplots_adjust(bottom=0, left=0.01, right=0.99, top=0.90, hspace=0.35)\n",
        "    for i in range(n_row * n_col):\n",
        "        plt.subplot(n_row, n_col, i + 1)\n",
        "        plt.imshow(images[i].reshape((h, w)), cmap=plt.cm.gray)\n",
        "        plt.title(titles[i], size=12)\n",
        "        plt.xticks(())\n",
        "        plt.yticks(())\n",
        "        \n",
        "def title(y_pred, y_test, target_names, i):\n",
        "    pred_name = target_names[y_pred[i]].rsplit(\" \", 1)[-1]\n",
        "    true_name = target_names[y_test[i]].rsplit(\" \", 1)[-1]\n",
        "    return \"predicted: %s\\ntrue:      %s\" % (pred_name, true_name)\n",
        "\n",
        "\n",
        "prediction_titles = [\n",
        "    title(y_pred, y_test, target_names, i) for i in range(y_pred.shape[0])\n",
        "]\n",
        "\n",
        "plot_gallery(X_test, prediction_titles, h, w)"
      ]
    },
    {
      "cell_type": "markdown",
      "id": "2929d2ca-e117-4655-8387-b87274067489",
      "metadata": {
        "id": "2929d2ca-e117-4655-8387-b87274067489"
      },
      "source": [
        "# References"
      ]
    },
    {
      "cell_type": "markdown",
      "id": "00059cf2-2312-42e0-a6b1-0fbac4f197ea",
      "metadata": {
        "id": "00059cf2-2312-42e0-a6b1-0fbac4f197ea"
      },
      "source": [
        "1. Gareth James, Daniela Witten, Trevor Hastie, Robert Tibshirani. An Introduction to Statistical Learning : with Applications in R. New York :Springer, 2013.\n",
        "\n",
        "2. https://scikit-learn.org/stable/\n",
        "\n",
        "3. https://inria.github.io/scikit-learn-mooc/python_scripts/dev_features_importance.html\n",
        "\n",
        "4. https://en.wikipedia.org/wiki/Scikit-learn"
      ]
    }
  ],
  "metadata": {
    "kernelspec": {
      "display_name": "Python 3 (ipykernel)",
      "language": "python",
      "name": "python3"
    },
    "language_info": {
      "codemirror_mode": {
        "name": "ipython",
        "version": 3
      },
      "file_extension": ".py",
      "mimetype": "text/x-python",
      "name": "python",
      "nbconvert_exporter": "python",
      "pygments_lexer": "ipython3",
      "version": "3.9.7"
    },
    "colab": {
      "name": "Copy of Sklearn.ipynb",
      "provenance": [],
      "include_colab_link": true
    }
  },
  "nbformat": 4,
  "nbformat_minor": 5
}